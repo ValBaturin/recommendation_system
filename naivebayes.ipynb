{
 "cells": [
  {
   "cell_type": "code",
   "execution_count": 7,
   "metadata": {
    "collapsed": true
   },
   "outputs": [],
   "source": [
    "from config import ARTICLE_PATH\n",
    "import os\n",
    "from sklearn.feature_extraction.text import TfidfVectorizer\n",
    "from nltk import word_tokenize\n",
    "from sklearn.naive_bayes import BernoulliNB\n",
    "from sklearn.cross_validation import train_test_split\n",
    "from sklearn.metrics import roc_auc_score"
   ]
  },
  {
   "cell_type": "code",
   "execution_count": 8,
   "metadata": {
    "collapsed": true
   },
   "outputs": [],
   "source": [
    "text = []\n",
    "label = []\n",
    "for _id in set(os.listdir(ARTICLE_PATH)) & set(os.listdir('./label')):\n",
    "    with open(ARTICLE_PATH + _id, 'r') as text_file, open('./label/' + _id) as label_file:\n",
    "        text.append(text_file.read())\n",
    "        label.append(int(label_file.read()))"
   ]
  },
  {
   "cell_type": "code",
   "execution_count": 9,
   "metadata": {
    "collapsed": false
   },
   "outputs": [
    {
     "name": "stdout",
     "output_type": "stream",
     "text": [
      "0.724367660343\n"
     ]
    }
   ],
   "source": [
    "X_train, X_test, Y_train, Y_test = train_test_split(text, label,test_size=0.1)\n",
    "\n",
    "tfidf_transformer = TfidfVectorizer(tokenizer=word_tokenize)\n",
    "X_train_tfidf = tfidf_transformer.fit_transform(X_train)\n",
    "\n",
    "model = BernoulliNB(binarize=False, fit_prior=False)\n",
    "model.fit(X_train_tfidf, Y_train)\n",
    "X_test_tfidf = tfidf_transformer.transform(X_test)\n",
    "y_predict = model.predict(X_test_tfidf)\n",
    "print(roc_auc_score(Y_test, y_predict))"
   ]
  },
  {
   "cell_type": "code",
   "execution_count": null,
   "metadata": {
    "collapsed": true
   },
   "outputs": [],
   "source": []
  }
 ],
 "metadata": {
  "kernelspec": {
   "display_name": "Python 3",
   "language": "python",
   "name": "python3"
  },
  "language_info": {
   "codemirror_mode": {
    "name": "ipython",
    "version": 3
   },
   "file_extension": ".py",
   "mimetype": "text/x-python",
   "name": "python",
   "nbconvert_exporter": "python",
   "pygments_lexer": "ipython3",
   "version": "3.4.3"
  }
 },
 "nbformat": 4,
 "nbformat_minor": 0
}
